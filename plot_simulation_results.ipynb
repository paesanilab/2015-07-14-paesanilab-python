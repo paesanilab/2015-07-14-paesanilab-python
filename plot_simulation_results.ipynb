{
 "cells": [
  {
   "cell_type": "code",
   "execution_count": 1,
   "metadata": {
    "collapsed": true
   },
   "outputs": [],
   "source": [
    "import pandas as pd"
   ]
  },
  {
   "cell_type": "code",
   "execution_count": 3,
   "metadata": {
    "collapsed": false
   },
   "outputs": [],
   "source": [
    "log = pd.read_csv(\"water14_cluster.log\")"
   ]
  },
  {
   "cell_type": "code",
   "execution_count": 4,
   "metadata": {
    "collapsed": true
   },
   "outputs": [],
   "source": [
    "%matplotlib inline"
   ]
  },
  {
   "cell_type": "code",
   "execution_count": 5,
   "metadata": {
    "collapsed": false
   },
   "outputs": [
    {
     "data": {
      "text/plain": [
       "<matplotlib.axes._subplots.AxesSubplot at 0x7ff7fa609940>"
      ]
     },
     "execution_count": 5,
     "metadata": {},
     "output_type": "execute_result"
    },
    {
     "data": {
      "image/png": "[encoded data removed]",
      "text/plain": [
       "<matplotlib.figure.Figure at 0x7ff7fa5fef28>"
      ]
     },
     "metadata": {},
     "output_type": "display_data"
    }
   ],
   "source": [
    "log[\"Total Energy (kJ/mole)\"].plot()"
   ]
  },
  {
   "cell_type": "code",
   "execution_count": 6,
   "metadata": {
    "collapsed": false
   },
   "outputs": [
    {
     "data": {
      "text/plain": [
       "Index(['#\"Progress (%)\"', 'Step', 'Potential Energy (kJ/mole)',\n",
       "       'Kinetic Energy (kJ/mole)', 'Total Energy (kJ/mole)', 'Temperature (K)',\n",
       "       'Box Volume (nm^3)', 'Density (g/mL)', 'Speed (ns/day)',\n",
       "       'Time Remaining'],\n",
       "      dtype='object')"
      ]
     },
     "execution_count": 6,
     "metadata": {},
     "output_type": "execute_result"
    }
   ],
   "source": [
    "log.columns"
   ]
  },
  {
   "cell_type": "code",
   "execution_count": 9,
   "metadata": {
    "collapsed": true
   },
   "outputs": [],
   "source": [
    "import matplotlib.pyplot as plt"
   ]
  },
  {
   "cell_type": "code",
   "execution_count": 10,
   "metadata": {
    "collapsed": false
   },
   "outputs": [
    {
     "data": {
      "image/png": "[encoded data removed]",
      "text/plain": [
       "<matplotlib.figure.Figure at 0x7ff7fa3560f0>"
      ]
     },
     "metadata": {},
     "output_type": "display_data"
    }
   ],
   "source": [
    "log[\"Temperature (K)\"].plot()\n",
    "plt.savefig(\"temperature.png\")"
   ]
  },
  {
   "cell_type": "code",
   "execution_count": 11,
   "metadata": {
    "collapsed": false
   },
   "outputs": [
    {
     "name": "stdout",
     "output_type": "stream",
     "text": [
      "temperature.png\r\n"
     ]
    }
   ],
   "source": [
    "!ls temp*png"
   ]
  },
  {
   "cell_type": "code",
   "execution_count": 13,
   "metadata": {
    "collapsed": false
   },
   "outputs": [
    {
     "name": "stdout",
     "output_type": "stream",
     "text": [
      "REMARK   1 CREATED WITH OPENMM 6.2, 2015-07-14\r\n",
      "MODEL        1\r\n",
      "ATOM      1  O   HOH A   1      -0.247   0.174   0.188  1.00  0.00           O  \r\n",
      "ATOM      2  H1  HOH A   1       0.104  -0.461  -0.434  1.00  0.00           H  \r\n",
      "ATOM      3  H2  HOH A   1       0.203   0.027   1.049  1.00  0.00           H  \r\n",
      "ATOM      4  M   HOH A   1      -0.076   0.007   0.239  1.00  0.00              \r\n",
      "ATOM      5  O   HOH A   2      -2.896   0.452   0.446  1.00  0.00           O  \r\n",
      "ATOM      6  H1  HOH A   2      -1.972   0.360   0.234  1.00  0.00           H  \r\n",
      "ATOM      7  H2  HOH A   2      -3.335   0.266  -0.341  1.00  0.00           H  \r\n",
      "ATOM      8  M   HOH A   2      -2.793   0.393   0.233  1.00  0.00              \r\n"
     ]
    }
   ],
   "source": [
    "!head water14_cluster_trajectory.pdb"
   ]
  },
  {
   "cell_type": "code",
   "execution_count": 15,
   "metadata": {
    "collapsed": false
   },
   "outputs": [],
   "source": [
    "import mdtraj"
   ]
  },
  {
   "cell_type": "code",
   "execution_count": 16,
   "metadata": {
    "collapsed": true
   },
   "outputs": [],
   "source": [
    "traj = mdtraj.load(\"water14_cluster_trajectory.pdb\")"
   ]
  },
  {
   "cell_type": "code",
   "execution_count": 17,
   "metadata": {
    "collapsed": true
   },
   "outputs": [],
   "source": [
    "distances = mdtraj.compute_distances(traj, [[0,1], [0, 2]])"
   ]
  },
  {
   "cell_type": "code",
   "execution_count": 22,
   "metadata": {
    "collapsed": false
   },
   "outputs": [
    {
     "data": {
      "text/plain": [
       "<matplotlib.legend.Legend at 0x7ff7f08bcf60>"
      ]
     },
     "execution_count": 22,
     "metadata": {},
     "output_type": "execute_result"
    },
    {
     "data": {
      "image/png": "[encoded data removed]",
      "text/plain": [
       "<matplotlib.figure.Figure at 0x7ff7f0a7ae48>"
      ]
     },
     "metadata": {},
     "output_type": "display_data"
    }
   ],
   "source": [
    "plt.plot(distances[:,0], label=\"O-H1\")\n",
    "plt.plot(distances[:,1], label=\"O-H2\")\n",
    "plt.legend()"
   ]
  },
  {
   "cell_type": "code",
   "execution_count": 20,
   "metadata": {
    "collapsed": false
   },
   "outputs": [
    {
     "data": {
      "text/plain": [
       "array([[ 0.09556726,  0.0982563 ],\n",
       "       [ 0.09604172,  0.09780307],\n",
       "       [ 0.09658886,  0.09735328],\n",
       "       [ 0.09704422,  0.09693617],\n",
       "       [ 0.09760256,  0.0964928 ],\n",
       "       [ 0.0981001 ,  0.09607086],\n",
       "       [ 0.09843713,  0.09557097],\n",
       "       [ 0.09884726,  0.09513848],\n",
       "       [ 0.09916068,  0.09477685],\n",
       "       [ 0.09951452,  0.09437129],\n",
       "       [ 0.09974086,  0.09403643],\n",
       "       [ 0.09983556,  0.09390219],\n",
       "       [ 0.09993479,  0.09364128],\n",
       "       [ 0.09997184,  0.09353476],\n",
       "       [ 0.1000107 ,  0.09358601],\n",
       "       [ 0.09989344,  0.09350984],\n",
       "       [ 0.09977836,  0.09370027],\n",
       "       [ 0.09962681,  0.09376327],\n",
       "       [ 0.09931702,  0.09397516],\n",
       "       [ 0.09900808,  0.09437209],\n",
       "       [ 0.09864005,  0.09457622],\n",
       "       [ 0.09820189,  0.09498084],\n",
       "       [ 0.09783839,  0.09551932],\n",
       "       [ 0.0973411 ,  0.09590302],\n",
       "       [ 0.09673851,  0.09640291],\n",
       "       [ 0.09624593,  0.096822  ],\n",
       "       [ 0.09576148,  0.09729882],\n",
       "       [ 0.09536739,  0.09776936],\n",
       "       [ 0.09496215,  0.09811493],\n",
       "       [ 0.09455676,  0.09851624],\n",
       "       [ 0.09424028,  0.09895236],\n",
       "       [ 0.09393157,  0.09919854],\n",
       "       [ 0.09359417,  0.09947995],\n",
       "       [ 0.09350053,  0.09968119],\n",
       "       [ 0.09342537,  0.09985134],\n",
       "       [ 0.09333863,  0.09993163],\n",
       "       [ 0.09348165,  0.09994168],\n",
       "       [ 0.09359701,  0.09994918],\n",
       "       [ 0.09381957,  0.09980251],\n",
       "       [ 0.09411981,  0.0997334 ],\n",
       "       [ 0.0944045 ,  0.09942283],\n",
       "       [ 0.09477182,  0.09915876],\n",
       "       [ 0.09515229,  0.09885935],\n",
       "       [ 0.09566593,  0.0985575 ],\n",
       "       [ 0.09611478,  0.09805702],\n",
       "       [ 0.09657028,  0.0977615 ],\n",
       "       [ 0.09702463,  0.09718411],\n",
       "       [ 0.09755746,  0.09669235],\n",
       "       [ 0.09801725,  0.09624183],\n",
       "       [ 0.09848807,  0.09583662]], dtype=float32)"
      ]
     },
     "execution_count": 20,
     "metadata": {},
     "output_type": "execute_result"
    }
   ],
   "source": [
    "distances"
   ]
  },
  {
   "cell_type": "code",
   "execution_count": null,
   "metadata": {
    "collapsed": true
   },
   "outputs": [],
   "source": []
  }
 ],
 "metadata": {
  "kernelspec": {
   "display_name": "Python 3",
   "language": "python",
   "name": "python3"
  },
  "language_info": {
   "codemirror_mode": {
    "name": "ipython",
    "version": 3
   },
   "file_extension": ".py",
   "mimetype": "text/x-python",
   "name": "python",
   "nbconvert_exporter": "python",
   "pygments_lexer": "ipython3",
   "version": "3.4.3"
  }
 },
 "nbformat": 4,
 "nbformat_minor": 0
}
